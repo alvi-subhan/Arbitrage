{
 "cells": [
  {
   "cell_type": "code",
   "execution_count": 16,
   "metadata": {
    "collapsed": true
   },
   "outputs": [
    {
     "name": "stdout",
     "output_type": "stream",
     "text": [
      "https://api.cryptonator.com/api/full/btc-usd\n"
     ]
    },
    {
     "name": "stdout",
     "output_type": "stream",
     "text": [
      "BTC\n"
     ]
    }
   ],
   "source": [
    "main_url=\"https://api.cryptonator.com/api/full/\"\n",
    "\n",
    "\n",
    "import urllib.parse, requests,json\n",
    "from matplotlib import pyplot as plt\n",
    "\n",
    "\n",
    "main_url=\"https://api.cryptonator.com/api/full/\"\n",
    "add=\"btc-usd\"\n",
    "\n",
    "url=main_url+add\n",
    "print(url)\n",
    "json_data=requests.get(url).json()\n",
    "\n",
    "print(json_data[\"ticker\"][\"base\"])\n"
   ]
  },
  {
   "cell_type": "code",
   "execution_count": 18,
   "metadata": {},
   "outputs": [
    {
     "name": "stdout",
     "output_type": "stream",
     "text": [
      "{'market': 'BitFinex', 'price': '8815.50000000', 'volume': 93864.53532209}\n"
     ]
    }
   ],
   "source": [
    "print(json_data[\"ticker\"][\"markets\"][0])\n"
   ]
  },
  {
   "cell_type": "code",
   "execution_count": 19,
   "metadata": {},
   "outputs": [
    {
     "name": "stdout",
     "output_type": "stream",
     "text": [
      "{'market': 'BitFinex', 'price': '8815.50000000', 'volume': 93864.53532209}\n{'market': 'Bitstamp', 'price': '8826.69000000', 'volume': 28857.62715865}\n{'market': 'Bittrex', 'price': '8772.48736002', 'volume': 7590.81421985}\n{'market': 'C-Cex', 'price': '9304.00000011', 'volume': 9.76924802}\n{'market': 'Cex.io', 'price': '9128.40000000', 'volume': 3198.28465462}\n{'market': 'Exmo', 'price': '9120.00000000', 'volume': 1647.79559449}\n{'market': 'Hitbtc', 'price': '9221.89000000', 'volume': 6440.41}\n{'market': 'Kraken', 'price': '8830.30000000', 'volume': 18068.99347104}\n{'market': 'Livecoin', 'price': '9262.95500000', 'volume': 1219.15247127}\n{'market': 'Poloniex', 'price': '8824.99998972', 'volume': 6198.9813975}\n{'market': 'wexnz', 'price': '8900.00000000', 'volume': 1303.09014}\n{'market': 'YoBit', 'price': '9350.99999997', 'volume': 217.30097463}\n"
     ]
    }
   ],
   "source": [
    "for market in json_data[\"ticker\"][\"markets\"]:\n",
    "    print(market)\n"
   ]
  },
  {
   "cell_type": "code",
   "execution_count": null,
   "metadata": {},
   "outputs": [],
   "source": [
    "currency=(\"what currency do u have? \")\n",
    "\n",
    "\n",
    "main_url=\"https://api.cryptonator.com/api/full/\"\n",
    "add=\"btc-usd\""
   ]
  },
  {
   "cell_type": "code",
   "execution_count": 57,
   "metadata": {},
   "outputs": [
    {
     "name": "stdout",
     "output_type": "stream",
     "text": [
      "https://api.cryptonator.com/api/full/btc-usd\n"
     ]
    },
    {
     "name": "stdout",
     "output_type": "stream",
     "text": [
      "[9050.8, 9114.31, 9047.00000001, 9579.9999, 9356.6, 9297.7225412, 9489.81, 9114.4, 9372.0, 9075.84702086, 9112.105, 9451.0]\n['BitFinex', 'Bitstamp', 'Bittrex', 'C-Cex', 'Cex.io', 'Exmo', 'Hitbtc', 'Kraken', 'Livecoin', 'Poloniex', 'wexnz', 'YoBit']\n"
     ]
    }
   ],
   "source": [
    "import urllib.parse, requests,json\n",
    "from matplotlib import pyplot as plt\n",
    "import numpy as np\n",
    "\n",
    "main_url=\"https://api.cryptonator.com/api/full/\"\n",
    "add=\"btc-usd\"\n",
    "\n",
    "url=main_url+add\n",
    "print(url)\n",
    "json_data=requests.get(url).json()\n",
    "\n",
    "#this is the output from the json_data\n",
    "\"\"\"{\n",
    "  \"ticker\": {\n",
    "    \"base\": \"BTC\",\n",
    "    \"target\": \"USD\",\n",
    "    \"price\": \"8850.69012695\",\n",
    "    \"volume\": \"168611.95114534\",\n",
    "    \"change\": \"3.57147475\",\n",
    "    \"markets\": []\n",
    "  }\n",
    "}\"\"\"\n",
    "\n",
    "crypto_currency=json_data[\"ticker\"][\"markets\"]\n",
    "\n",
    "price_float=[]\n",
    "market_names=[]\n",
    "\n",
    "for mt in crypto_currency:\n",
    "     #print(mt[\"market\"])\n",
    "\n",
    "     xy=float(mt[\"price\"])\n",
    "     price_float.append(xy)\n",
    "     yx=mt[\"market\"]\n",
    "     market_names.append(yx)\n",
    "\n",
    "print(price_float)\n",
    "print(market_names)\n"
   ]
  },
  {
   "cell_type": "code",
   "execution_count": 58,
   "metadata": {},
   "outputs": [],
   "source": [
    "price_float=np.array(price_float)\n",
    "\n",
    "index_min_price=np.argmin(price_float)\n",
    "index_max_price=np.argmax(price_float)\n"
   ]
  },
  {
   "cell_type": "code",
   "execution_count": 59,
   "metadata": {
    "collapsed": false
   },
   "outputs": [
    {
     "data": {
      "text/plain": [
       "5.8899999999999997"
      ]
     },
     "execution_count": 59,
     "metadata": {},
     "output_type": "execute_result"
    }
   ],
   "source": [
    "min_price=np.take(price_float,index_min_price)\n",
    "max_price=np.take(price_float,index_max_price)\n",
    "\n",
    "min_market=np.take(market_names,index_min_price)\n",
    "max_market=np.take(market_names,index_max_price)\n",
    "\n",
    "round_min=round(min_price,4)\n",
    "round_max=round(max_price,4)\n",
    "\n",
    "\n",
    "profit_percent=np.round( ((max_price-min_price)/min_price)*100 ,2) #roumded the profit \n",
    "profit_percent"
   ]
  },
  {
   "cell_type": "code",
   "execution_count": 60,
   "metadata": {},
   "outputs": [
    {
     "name": "stdout",
     "output_type": "stream",
     "text": [
      "Buy from  Bittrex at price  9047.0  and sell it in  C-Cex  for  9579.9999\nYou can make a profit of  5.89 %\n"
     ]
    }
   ],
   "source": [
    "print(\"Buy from \",min_market,\"at price \",str(round_min),\" and sell it in \",max_market,\" for \",str(round_max))\n",
    "print(\"You can make a profit of \",str(profit_percent),\"%\")"
   ]
  },
  {
   "cell_type": "code",
   "execution_count": 55,
   "metadata": {},
   "outputs": [
    {
     "name": "stdout",
     "output_type": "stream",
     "text": [
      "34.56\n"
     ]
    },
    {
     "data": {
      "text/plain": [
       "8.0299999999999994"
      ]
     },
     "execution_count": 55,
     "metadata": {},
     "output_type": "execute_result"
    }
   ],
   "source": [
    "print(np.round(34.56374757,2))\n",
    "np.round(8.0299999999999994,2)\n"
   ]
  },
  {
   "cell_type": "code",
   "execution_count": null,
   "metadata": {},
   "outputs": [],
   "source": []
  }
 ],
 "metadata": {
  "kernelspec": {
   "display_name": "Python 2",
   "language": "python",
   "name": "python2"
  },
  "language_info": {
   "codemirror_mode": {
    "name": "ipython",
    "version": 2
   },
   "file_extension": ".py",
   "mimetype": "text/x-python",
   "name": "python",
   "nbconvert_exporter": "python",
   "pygments_lexer": "ipython2",
   "version": "2.7.6"
  }
 },
 "nbformat": 4,
 "nbformat_minor": 0
}
